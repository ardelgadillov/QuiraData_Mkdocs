{
 "cells": [
  {
   "metadata": {},
   "cell_type": "markdown",
   "source": [
    "# Traveling Salesperson Problem\n",
    "\n",
    "The Traveling Salesperson Problem (TSP) is a classic optimization problem in computer science and operations research. It involves finding the most efficient route for a salesperson to visit a set of cities and return to the starting city, with the goal of minimizing travel distance or cost.\n",
    "\n",
    "## Problem Definition\n",
    "Given:\n",
    "- A list of **cities** (or nodes).\n",
    "- The **distances or costs** between each pair of cities.\n",
    "\n",
    "Objective:\n",
    "- Find the shortest possible route that visits each city **exactly once** and returns to the starting city.\n",
    "\n",
    "#### Example\n",
    "- Suppose there are four cities: A, B, C, and D.\n",
    "- The distances between them are:\n",
    "\n",
    "<div class=\"grid\" markdown>\n",
    "\n",
    "  A → B: 10  \n",
    "  A → C: 15 \\\n",
    "  A → D: 20 \\\n",
    "  B → C: 35 \\\n",
    "  B → D: 25 \\\n",
    "  C → D: 30 \n",
    " \n",
    "  <img src=\"../../assets/images/travel_sales_example.png\" alt=\"Alt Text\" style=\"width:50%;\">\n",
    "\n",
    "</div>\n",
    "\n",
    "<!-- | From/To | A   | B   | C   | D   | -->\n",
    "<!-- |---------|-----|-----|-----|-----| -->\n",
    "<!-- | A       | n/a | 10  | 15  | 20  | -->\n",
    "<!-- | B       | 10  | n/a | 35  | 25  | -->\n",
    "<!-- | C       | 15  | 35  | n/a | 30  | -->\n",
    "<!-- | D       | 20  | 25  | 30  | n/a | -->\n",
    "\n",
    "The task is to determine the sequence of cities (e.g., A → B → C → D → A) that minimizes the total distance traveled.\n",
    "## Applications\n",
    "1. **Logistics and Delivery**: Optimizing routes for delivery trucks or couriers.\n",
    "2. **Manufacturing**: Designing efficient robotic arms or conveyor belts.\n",
    "3. **Tourism**: Creating optimal travel itineraries.\n",
    "\n",
    "## Complexity\n",
    "- **Computationally Hard**: TSP is NP-hard, meaning there's no known polynomial-time algorithm to solve it for all cases.\n",
    "- For \\(n\\) cities, there are \\((n-1)!\\) possible routes.\n",
    "\n",
    "## Solution Approaches\n",
    "1. **Exact Algorithms**:\n",
    "   - **Brute Force**: Explore all possible routes (impractical for large \\(n\\)).\n",
    "   - **Dynamic Programming**.\n",
    "   - **Mixed Integer Linear Programming (MILP)**.\n",
    "\n",
    "2. **Heuristic and Approximation Methods**:\n",
    "   - **Greedy Algorithms**.\n",
    "   - **Genetic Algorithms**.\n",
    "   - **Simulated Annealing**.\n",
    "   - **Ant Colony Optimization**.\n",
    "\n",
    "3. **Machine Learning**"
   ],
   "id": "df6c08df2c9ebbea"
  },
  {
   "metadata": {},
   "cell_type": "markdown",
   "source": [
    "## Mixed-Integer Linear Program (MILP) Formulation\n",
    "\n",
    "The **Traveling Salesperson Problem (TSP)** can be formulated as a **Mixed-Integer Linear Program (MILP)**. Below is a typical formulation:\n",
    "\n",
    "### Sets\n",
    "- $i$, $j$: Cities (nodes).\n",
    "\n",
    "### Parameters\n",
    "- $ c_{ij} $: Cost or distance of traveling from city $i$ to city $j$.\n",
    "- $ n $: Number of cities.\n",
    "\n",
    "### Variables\n",
    "1. **Decision Variables**:\n",
    "   - $ x_{ij} \\in \\{0, 1\\} $: Binary variable indicating whether the path from city $i$ to city $j$ is included in the tour.\n",
    "     - $ x_{ij} = 1 $: Path from city $i$ to $j$ is used.\n",
    "     - $ x_{ij} = 0 $: Path from city $i$ to $j$ is not used.\n",
    "\n",
    "2. **Auxiliary Variables** (for subtour elimination):\n",
    "   - $ u_i $: A continuous variable representing the order in which city $i$ is visited, used to eliminate subtours.\n",
    "\n",
    "### Objective Function:\n",
    "Minimize the total travel cost:\n",
    "$$\n",
    "\\min_{x_{ij}, u_i} \\quad \\sum_{i=1}^{n} \\sum_{j=1, j \\neq i}^{n} c_{ij} x_{ij}\n",
    "$$\n",
    "\n",
    "### Constraints:\n",
    "1. **Each city is entered exactly once**:\n",
    "   $$\n",
    "   \\sum_{i=1, i \\neq j}^{n} x_{ij} = 1 \\quad \\forall j = 1, \\dots, n\n",
    "   $$\n",
    "\n",
    "2. **Each city is exited exactly once**:\n",
    "   $$\n",
    "   \\sum_{j=1, j \\neq i}^{n} x_{ij} = 1 \\quad \\forall i = 1, \\dots, n\n",
    "   $$\n",
    "\n",
    "3. **Subtour elimination constraints** (Miller-Tucker-Zemlin formulation):\n",
    "   $$\n",
    "   u_i - u_j + n \\cdot x_{ij} \\leq n - 1 \\quad \\forall i, j = 2, \\dots, n, \\; i \\neq j\n",
    "   $$\n",
    "   $$\n",
    "   1 \\leq u_i \\leq n - 1 \\quad \\forall i = 2, \\dots, n\n",
    "   $$\n",
    "\n",
    "   The basic formulation with decision variables $x_{ij}$ ensures each city is visited exactly once but does not inherently prevent **subtours** (i.e., tours that visit only a subset of cities). These constraints force the auxiliary variable $u_i$ to ensure that a valid sequence of cities is followed. If $x_{ij} = 1$ (i.e., there is a path from $i$ to $j$), then $u_i < u_j$. \n",
    "\n",
    "\n"
   ],
   "id": "d2f55a3e04979fc6"
  },
  {
   "metadata": {},
   "cell_type": "markdown",
   "source": "## Pyomo formulation",
   "id": "d44c7813a1aa8ff8"
  },
  {
   "metadata": {
    "ExecuteTime": {
     "end_time": "2024-11-13T21:15:46.879830Z",
     "start_time": "2024-11-13T21:15:46.025918Z"
    }
   },
   "cell_type": "code",
   "source": [
    "# Import libraries\n",
    "import numpy as np\n",
    "import pandas as pd\n",
    "import pyomo.environ as pyo\n",
    "from pyomo.core.util import quicksum\n",
    "import highspy"
   ],
   "id": "30d7d700ffa5a5ca",
   "outputs": [],
   "execution_count": 1
  },
  {
   "metadata": {
    "ExecuteTime": {
     "end_time": "2024-11-13T21:15:46.893112Z",
     "start_time": "2024-11-13T21:15:46.884597Z"
    }
   },
   "cell_type": "code",
   "source": [
    "# Pyomo model\n",
    "def pyomo_model(n: int):\n",
    "    \"\"\"\n",
    "    \n",
    "    :param n: Number of cities\n",
    "    :return: algrebaic model\n",
    "    \"\"\"\n",
    "    \n",
    "    tsp = pyo.AbstractModel()\n",
    "    \n",
    "    # Sets\n",
    "    tsp.i = pyo.RangeSet(1, n)\n",
    "    tsp.j = pyo.RangeSet(1, n)\n",
    "    \n",
    "    # Parameters\n",
    "    tsp.C_ij = pyo.Param(tsp.i, tsp.j, doc='Cost of traveling from i to j')\n",
    "    \n",
    "    # Variables\n",
    "    tsp.x_ij = pyo.Var(tsp.i, tsp.j, doc='Indicates whether the path from i to j is included', within=pyo.Binary)\n",
    "    tsp.u_i = pyo.Var(tsp.i, doc='Represents the order in which i is visited', bounds=(1, n-1), within=pyo.PositiveReals)\n",
    "    \n",
    "    # Model definition\n",
    "    # Objective Function\n",
    "    tsp.objective = pyo.Objective(rule=objective, sense=pyo.minimize, doc='Minimize Cost')\n",
    "    # Add Constraints\n",
    "    tsp.c_visit_once = pyo.Constraint(tsp.j, rule=c_visit_once, doc='Visit Once')\n",
    "    tsp.c_leave_once = pyo.Constraint(tsp.i, rule=c_leave_once, doc='Leave Once')\n",
    "    tsp.c_subtour_elimination = pyo.Constraint(tsp.i, tsp.j, rule=c_subtour_elimination, doc='Subtour Elimination')\n",
    "    \n",
    "    return tsp\n",
    "    \n",
    "# Objective function\n",
    "def objective(m):\n",
    "    return quicksum(m.C_ij[i, j] * m.x_ij[i, j] for i in m.i for j in m.j if j!=i)\n",
    "\n",
    "# Constraints\n",
    "def c_visit_once(m, j):\n",
    "    return sum(m.x_ij[i, j] for i in m.i if j!=i) == 1\n",
    "\n",
    "def c_leave_once(m, i):\n",
    "    return sum(m.x_ij[i, j] for j in m.j if j!=i) == 1\n",
    "\n",
    "def c_subtour_elimination(m, i, j):\n",
    "    if i != j and i>=2 and j>=2:\n",
    "        return m.u_i[i] - m.u_i[j] + len(m.i) * m.x_ij[i, j] <= len(m.i) - 1\n",
    "    return pyo.Constraint.Skip\n"
   ],
   "id": "a0c4a8c91da2926e",
   "outputs": [],
   "execution_count": 2
  },
  {
   "metadata": {
    "ExecuteTime": {
     "end_time": "2024-11-13T21:15:47.116753Z",
     "start_time": "2024-11-13T21:15:47.111405Z"
    }
   },
   "cell_type": "code",
   "source": [
    "# Data\n",
    "data = {\n",
    "    None: {\n",
    "        # Parameters\n",
    "        'C_ij': {\n",
    "            (1, 1): 0,  (1, 2): 10, (1, 3): 15, (1, 4): 20,\n",
    "            (2, 1): 10, (2, 2): 0,  (2, 3): 35, (2, 4): 25,\n",
    "            (3, 1): 15, (3, 2): 35, (3, 3): 0,  (3, 4): 30,\n",
    "            (4, 1): 20, (4, 2): 25, (4, 3): 30, (4, 4): 0,\n",
    "        }\n",
    "    }\n",
    "}"
   ],
   "id": "47ac24cf5caf339f",
   "outputs": [],
   "execution_count": 3
  },
  {
   "metadata": {
    "ExecuteTime": {
     "end_time": "2024-11-13T21:15:47.145546Z",
     "start_time": "2024-11-13T21:15:47.133862Z"
    }
   },
   "cell_type": "code",
   "source": [
    "# Create instance model\n",
    "tsp = pyomo_model(4)\n",
    "tsp_instance = tsp.create_instance(data)"
   ],
   "id": "9e63e5cc6c09404",
   "outputs": [],
   "execution_count": 4
  },
  {
   "metadata": {
    "ExecuteTime": {
     "end_time": "2024-11-13T21:15:47.179906Z",
     "start_time": "2024-11-13T21:15:47.153927Z"
    }
   },
   "cell_type": "code",
   "source": [
    "# Solve problem with Highspy\n",
    "solver = pyo.SolverFactory('appsi_highs')\n",
    "solver.solve(tsp_instance, tee=True)"
   ],
   "id": "a7bcdb0ceb4c52bc",
   "outputs": [
    {
     "name": "stdout",
     "output_type": "stream",
     "text": [
      "Coefficient ranges:\n",
      "  Matrix [1e+00, 4e+00]\n",
      "  Cost   [1e+01, 4e+01]\n",
      "  Bound  [1e+00, 3e+00]\n",
      "  RHS    [1e+00, 3e+00]\n",
      "Presolving model\n",
      "14 rows, 15 cols, 42 nonzeros  0s\n",
      "14 rows, 15 cols, 42 nonzeros  0s\n",
      "Objective function is integral with scale 0.2\n",
      "\n",
      "Solving MIP model with:\n",
      "   14 rows\n",
      "   15 cols (12 binary, 0 integer, 0 implied int., 3 continuous)\n",
      "   42 nonzeros\n",
      "\n",
      "        Nodes      |    B&B Tree     |            Objective Bounds              |  Dynamic Constraints |       Work      \n",
      "     Proc. InQueue |  Leaves   Expl. | BestBound       BestSol              Gap |   Cuts   InLp Confl. | LpIters     Time\n",
      "\n",
      "         0       0         0   0.00%   0               inf                  inf        0      0      0         0     0.0s\n",
      " R       0       0         0   0.00%   80              95                15.79%        0      0      0        11     0.0s\n",
      "\n",
      "25.0% inactive integer columns, restarting\n",
      "\n",
      "Solving report\n",
      "  Status            Optimal\n",
      "  Primal bound      80\n",
      "  Dual bound        80\n",
      "  Gap               0% (tolerance: 0.01%)\n",
      "  Solution status   feasible\n",
      "                    80 (objective)\n",
      "                    0 (bound viol.)\n",
      "                    0 (int. viol.)\n",
      "                    0 (row viol.)\n",
      "  Timing            0.00 (total)\n",
      "                    0.00 (presolve)\n",
      "                    0.00 (postsolve)\n",
      "  Nodes             0\n",
      "  LP iterations     11 (total)\n",
      "                    0 (strong br.)\n",
      "                    0 (separation)\n",
      "                    0 (heuristics)\n"
     ]
    },
    {
     "data": {
      "text/plain": [
       "{'Problem': [{'Lower bound': 80.0, 'Upper bound': 80.0, 'Number of objectives': 1, 'Number of constraints': 0, 'Number of variables': 0, 'Sense': 1}], 'Solver': [{'Status': 'ok', 'Termination condition': 'optimal', 'Termination message': 'TerminationCondition.optimal'}], 'Solution': [OrderedDict({'number of solutions': 0, 'number of solutions displayed': 0})]}"
      ]
     },
     "execution_count": 5,
     "metadata": {},
     "output_type": "execute_result"
    }
   ],
   "execution_count": 5
  },
  {
   "metadata": {
    "ExecuteTime": {
     "end_time": "2024-11-13T21:15:47.196192Z",
     "start_time": "2024-11-13T21:15:47.186767Z"
    }
   },
   "cell_type": "code",
   "source": [
    "# Display results\n",
    "x_ij = tsp_instance.x_ij.extract_values()\n",
    "C_ij = tsp_instance.C_ij.extract_values()\n",
    "for key, value in x_ij.items():\n",
    "    if value == 1:\n",
    "        print(f\"Travel from {key[0]} to {key[1]} and Cost {C_ij[key]}\")"
   ],
   "id": "9fdd669867376d5b",
   "outputs": [
    {
     "name": "stdout",
     "output_type": "stream",
     "text": [
      "Travel from 1 to 2 and Cost 10\n",
      "Travel from 2 to 4 and Cost 25\n",
      "Travel from 3 to 1 and Cost 15\n",
      "Travel from 4 to 3 and Cost 30\n"
     ]
    }
   ],
   "execution_count": 6
  }
 ],
 "metadata": {
  "kernelspec": {
   "display_name": "Python 3",
   "language": "python",
   "name": "python3"
  },
  "language_info": {
   "codemirror_mode": {
    "name": "ipython",
    "version": 2
   },
   "file_extension": ".py",
   "mimetype": "text/x-python",
   "name": "python",
   "nbconvert_exporter": "python",
   "pygments_lexer": "ipython2",
   "version": "2.7.6"
  }
 },
 "nbformat": 4,
 "nbformat_minor": 5
}
